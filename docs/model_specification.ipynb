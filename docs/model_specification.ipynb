{
 "cells": [
  {
   "cell_type": "markdown",
   "metadata": {},
   "source": [
    "# Alternative Model Specification\n",
    "\n",
    "TraitSimulation provides a variety of model specifications for a user-friendly interface convenient to the users problem setting.\n",
    "\n",
    "In this notebook we demonstrate the different ways users can specify from a Variance Component Model. Note that the alternative model specification can be applied to the other simulation model in a similar fashion. \n",
    "\n",
    "We encourage users to choose whichever specification method best suits their needs. "
   ]
  },
  {
   "cell_type": "code",
   "execution_count": 1,
   "metadata": {},
   "outputs": [
    {
     "data": {
      "text/plain": [
       "2-element Array{VarianceComponent,1}:\n",
       " Variance Component\n",
       "  * number of traits: 2\n",
       "  * sample size: 10\n",
       " Variance Component\n",
       "  * number of traits: 2\n",
       "  * sample size: 10"
      ]
     },
     "execution_count": 1,
     "metadata": {},
     "output_type": "execute_result"
    }
   ],
   "source": [
    "using TraitSimulation, LinearAlgebra\n",
    "using Random, DataFrames, Test, SnpArrays\n",
    "Random.seed!(1234)\n",
    "\n",
    "# First generate some demo-data\n",
    "\n",
    "n = 10 # number of people\n",
    "p = 2  # number of fixed effects\n",
    "d = 2  # number of traits\n",
    "m = 2  # number of variance components\n",
    "\n",
    "function generateSPDmatrix(n)\n",
    "    A = rand(n)\n",
    "    m = 0.5 * (A * A')\n",
    "    PDmat = m + (n * Diagonal(ones(n)))\n",
    "end\n",
    "\n",
    "\n",
    "function generateRandomVCM(n::Int64, p::Int64, d::Int64, m::Int64)\n",
    "    # n-by-p design matrix\n",
    "    X = randn(n, p)\n",
    "    \n",
    "    V = ntuple(x -> zeros(n, n), m)\n",
    "    for i = 1:m-1\n",
    "      copy!(V[i], generateSPDmatrix(n))\n",
    "    end\n",
    "    copy!(V[end], Diagonal(ones(n))) # last covarianec matrix is identity\n",
    "\n",
    "    # a tuple of m d-by-d variance component parameters\n",
    "    Σ = ntuple(x -> zeros(d, d), m)\n",
    "    for i in 1:m\n",
    "      copy!(Σ[i], generateSPDmatrix(d))\n",
    "    end\n",
    "    return(X, Σ, V)\n",
    "end\n",
    "\n",
    "X, Σ, V = generateRandomVCM(n, p, d, m) # generate random data, where variance components are Positive Semi-Definite\n",
    "B = [[1.0;  0.950498]  [1.0;  0.96467]] # matrix of regression coefficients for non-genetic predictors \n",
    "maf = [0.2] # minor allele frequency of simulated SNP\n",
    "G = snparray_simulation(maf, n) # simulate SnpArray (user can read in their own snps too)\n",
    "locus = convert(Matrix{Float64}, G, model = ADDITIVE_MODEL, center=false, scale=false); # (convert the snp to Float64)\n",
    "n_snps = length(maf) \n",
    "γ = [0.372575 0.150508]        # matrix of regression coefficients for genetic predictors\n",
    "variance_formula = @vc Σ[1] ⊗ V[1] + Σ[2] ⊗ V[2] # variance components for model"
   ]
  },
  {
   "cell_type": "markdown",
   "metadata": {},
   "source": [
    "## method 1: VCMTrait(X, B, variance_formula)\n",
    "\n",
    "    **X: Matrix of both genetic and non-genetic predictors**\n",
    "    **B: Matrix of both genetic and non-genetic regression coefficients**\n",
    "    **variance_formula: formula to specify the models variance components**\n",
    "\n",
    "Users who only have a few number of genetic predictors may find this model specification most user friendly. The genetic predictors are concatenated with the non-genetic predictors to form the overall design matrix. Similarly, the regression coefficients of both genetic and non-genetic predictors are concatenated to make the full matrix of regression coefficients."
   ]
  },
  {
   "cell_type": "code",
   "execution_count": 2,
   "metadata": {},
   "outputs": [
    {
     "data": {
      "text/plain": [
       "Variance Component Model\n",
       "  * number of traits: 2\n",
       "  * number of variance components: 2\n",
       "  * sample size: 10"
      ]
     },
     "execution_count": 2,
     "metadata": {},
     "output_type": "execute_result"
    }
   ],
   "source": [
    "X_full = hcat(X, locus)  # full design matrix with both non-genetic and genetic predictors\n",
    "B_full = vcat(B, γ)      # full matrix of regression coefficients for both non-genetic and genetic predictors \n",
    "genetic_model1 = VCMTrait(X_full, B_full, variance_formula)"
   ]
  },
  {
   "cell_type": "code",
   "execution_count": 3,
   "metadata": {},
   "outputs": [
    {
     "data": {
      "text/plain": [
       "10×2 Array{Float64,2}:\n",
       "  6.93768    -3.72705\n",
       " -7.26476    -0.0815147\n",
       " -0.915509    0.478916\n",
       " -5.31707     8.93169\n",
       " -0.385205   -3.06236\n",
       " 13.4914      4.6258\n",
       "  3.12911     0.639182\n",
       "  0.178557    1.10218\n",
       "  2.59476     0.0360991\n",
       " -5.39579   -11.2104"
      ]
     },
     "execution_count": 3,
     "metadata": {},
     "output_type": "execute_result"
    }
   ],
   "source": [
    "Random.seed!(1234)\n",
    "y1 = simulate(genetic_model1)"
   ]
  },
  {
   "cell_type": "markdown",
   "metadata": {},
   "source": [
    "## method 2: VCMTrait(mean_formula, DataFrame(X), variance_formula)\n",
    "\n",
    "    **mean_formulas: Vector of strings, specifying mean effect for each trait**\n",
    "    **DataFrame: Named DataFrame of both genetic and non-genetic regression coefficients**\n",
    "    **variance_formula: formula to specify the models variance components**\n",
    "    \n",
    "Users who feel more comfortable using the formulas to specify both the mean and variance of the simulation model may do so on a data frame with names corresponding to the predictors specified in the mean_formula. "
   ]
  },
  {
   "cell_type": "code",
   "execution_count": 4,
   "metadata": {},
   "outputs": [
    {
     "data": {
      "text/plain": [
       "Variance Component Model\n",
       "  * number of traits: 2\n",
       "  * number of variance components: 2\n",
       "  * sample size: 10"
      ]
     },
     "execution_count": 4,
     "metadata": {},
     "output_type": "execute_result"
    }
   ],
   "source": [
    "mean_formulas = [\"1.0*predictor1 + 0.950498*predictor2 + 0.372575*locus\", \"1.0*predictor1 + 0.96467*predictor2 + 0.150508*locus\"]\n",
    "data_frame_X_full = DataFrame(predictor1 = X_full[:, 1], predictor2 = X_full[:, 2], locus = X_full[:, 3])\n",
    "genetic_model2 = VCMTrait(mean_formulas, data_frame_X_full, variance_formula)"
   ]
  },
  {
   "cell_type": "code",
   "execution_count": 5,
   "metadata": {},
   "outputs": [
    {
     "data": {
      "text/plain": [
       "10×2 Array{Float64,2}:\n",
       "  6.93768    -3.72705\n",
       " -7.26476    -0.0815147\n",
       " -0.915509    0.478916\n",
       " -5.31707     8.93169\n",
       " -0.385205   -3.06236\n",
       " 13.4914      4.6258\n",
       "  3.12911     0.639182\n",
       "  0.178557    1.10218\n",
       "  2.59476     0.0360991\n",
       " -5.39579   -11.2104"
      ]
     },
     "execution_count": 5,
     "metadata": {},
     "output_type": "execute_result"
    }
   ],
   "source": [
    "Random.seed!(1234)\n",
    "y2 = simulate(genetic_model2)"
   ]
  },
  {
   "cell_type": "markdown",
   "metadata": {},
   "source": [
    "## method 3: VCMTrait(X, B, Σ, V)\n",
    "\n",
    "To specify many variance components, users can decide not to use formulas and specify just the necessary mean and variance components as follows.\n",
    "\n",
    "    **X_full: Matrix of both genetic and non-genetic predictors**\n",
    "    **B_full: Matrix of both genetic and non-genetic regression coefficients**\n",
    "    **Σ: Collection of all m Variance Components **\n",
    "    **V: Collection of all m Variance Covariance Matrices**\n",
    "    \n",
    "For users who have potentially many non-genetic predictors and many variance components, the formula specification can be avoided alltogether."
   ]
  },
  {
   "cell_type": "code",
   "execution_count": 6,
   "metadata": {},
   "outputs": [
    {
     "data": {
      "text/plain": [
       "Variance Component Model\n",
       "  * number of traits: 2\n",
       "  * number of variance components: 2\n",
       "  * sample size: 10"
      ]
     },
     "execution_count": 6,
     "metadata": {},
     "output_type": "execute_result"
    }
   ],
   "source": [
    "Σ = [Σ...] # Σ = [Σ[1], Σ[2]] collect all the variance components \n",
    "V = [V...] # V = [V[1], V[2]] collect all the variance covariance matrices\n",
    "genetic_model3 = VCMTrait(X_full, B_full, Σ, V)"
   ]
  },
  {
   "cell_type": "code",
   "execution_count": 7,
   "metadata": {},
   "outputs": [
    {
     "data": {
      "text/plain": [
       "10×2 Array{Float64,2}:\n",
       "  6.93768    -3.72705\n",
       " -7.26476    -0.0815147\n",
       " -0.915509    0.478916\n",
       " -5.31707     8.93169\n",
       " -0.385205   -3.06236\n",
       " 13.4914      4.6258\n",
       "  3.12911     0.639182\n",
       "  0.178557    1.10218\n",
       "  2.59476     0.0360991\n",
       " -5.39579   -11.2104"
      ]
     },
     "execution_count": 7,
     "metadata": {},
     "output_type": "execute_result"
    }
   ],
   "source": [
    "Random.seed!(1234)\n",
    "y3 = simulate(genetic_model3)"
   ]
  },
  {
   "cell_type": "markdown",
   "metadata": {},
   "source": [
    "## method 4: VCMTrait(X, B, G, γ, variance_formula)\n",
    "\n",
    "    **X: Matrix of non-genetic predictors**\n",
    "    **B: Matrix of regression coefficients for non-genetic predictors**\n",
    "    **G: Matrix of genetic predictors (specified as a SnpArray)**\n",
    "    **γ: Matrix of regression coefficients for genetic predictors (snps)**\n",
    "    **variance_formula: formula to specify the models variance components**\n",
    "    \n",
    "    \n",
    "For users who have potentially many non-genetic predictors and a vast number of SNPs, the SNPs may be specified separately as a SnpArray for maximum efficiency. For users who are interested in this case, please take a look at the SnpArrays documentation for more details on [LinearAlgebra using SnpArrays](https://openmendel.github.io/SnpArrays.jl/latest/#Linear-algebra-1)\n"
   ]
  },
  {
   "cell_type": "code",
   "execution_count": 8,
   "metadata": {},
   "outputs": [
    {
     "data": {
      "text/plain": [
       "Variance Component Model\n",
       "  * number of traits: 2\n",
       "  * number of variance components: 2\n",
       "  * sample size: 10"
      ]
     },
     "execution_count": 8,
     "metadata": {},
     "output_type": "execute_result"
    }
   ],
   "source": [
    "genetic_model4 =  VCMTrait(X, B, G, γ, variance_formula)"
   ]
  },
  {
   "cell_type": "code",
   "execution_count": 9,
   "metadata": {},
   "outputs": [
    {
     "data": {
      "text/plain": [
       "10×2 Array{Float64,2}:\n",
       "  6.93768    -3.72705\n",
       " -7.26476    -0.0815147\n",
       " -0.915509    0.478916\n",
       " -5.31707     8.93169\n",
       " -0.385205   -3.06236\n",
       " 13.4914      4.6258\n",
       "  3.12911     0.639182\n",
       "  0.178557    1.10218\n",
       "  2.59476     0.0360991\n",
       " -5.39579   -11.2104"
      ]
     },
     "execution_count": 9,
     "metadata": {},
     "output_type": "execute_result"
    }
   ],
   "source": [
    "Random.seed!(1234)\n",
    "y4 = simulate(genetic_model4)"
   ]
  },
  {
   "cell_type": "markdown",
   "metadata": {},
   "source": [
    "## method 5: VCMTrait(X, B, G, γ,  Σ, V)\n",
    "\n",
    "\n",
    "    **X: Matrix of non-genetic predictors**\n",
    "    **B: Matrix of regression coefficients for non-genetic predictors**\n",
    "    **G: Matrix of genetic predictors (specified as a SnpArray)**\n",
    "    **γ: Matrix of regression coefficients for genetic predictors (snps)**\n",
    "    **Σ: Collection of all m Variance Components **\n",
    "    **V: Collection of all m Variance Covariance Matrices**\n",
    "    \n",
    "For users who have potentially many non-genetic predictors, a vast number of SNPs, and many variance components, the SNPs may be specified separately as a SnpArray for maximum efficiency and the variance components may be specified as a list. For users who are interested in this case, please take a look at the SnpArrays documentation for more details on [LinearAlgebra using SnpArrays](https://openmendel.github.io/SnpArrays.jl/latest/#Linear-algebra-1)"
   ]
  },
  {
   "cell_type": "code",
   "execution_count": 10,
   "metadata": {},
   "outputs": [
    {
     "data": {
      "text/plain": [
       "Variance Component Model\n",
       "  * number of traits: 2\n",
       "  * number of variance components: 2\n",
       "  * sample size: 10"
      ]
     },
     "execution_count": 10,
     "metadata": {},
     "output_type": "execute_result"
    }
   ],
   "source": [
    "genetic_model5 =  VCMTrait(X, B, G, γ, [Σ...], [V...])"
   ]
  },
  {
   "cell_type": "code",
   "execution_count": 11,
   "metadata": {},
   "outputs": [
    {
     "data": {
      "text/plain": [
       "10×2 Array{Float64,2}:\n",
       "  6.93768    -3.72705\n",
       " -7.26476    -0.0815147\n",
       " -0.915509    0.478916\n",
       " -5.31707     8.93169\n",
       " -0.385205   -3.06236\n",
       " 13.4914      4.6258\n",
       "  3.12911     0.639182\n",
       "  0.178557    1.10218\n",
       "  2.59476     0.0360991\n",
       " -5.39579   -11.2104"
      ]
     },
     "execution_count": 11,
     "metadata": {},
     "output_type": "execute_result"
    }
   ],
   "source": [
    "Random.seed!(1234)\n",
    "y5 = simulate(genetic_model5)"
   ]
  }
 ],
 "metadata": {
  "kernelspec": {
   "display_name": "Julia 1.4.0",
   "language": "julia",
   "name": "julia-1.4"
  },
  "language_info": {
   "file_extension": ".jl",
   "mimetype": "application/julia",
   "name": "julia",
   "version": "1.4.0"
  },
  "toc": {
   "base_numbering": 1,
   "nav_menu": {},
   "number_sections": true,
   "sideBar": true,
   "skip_h1_title": false,
   "title_cell": "Table of Contents",
   "title_sidebar": "Contents",
   "toc_cell": false,
   "toc_position": {},
   "toc_section_display": true,
   "toc_window_display": false
  }
 },
 "nbformat": 4,
 "nbformat_minor": 2
}
